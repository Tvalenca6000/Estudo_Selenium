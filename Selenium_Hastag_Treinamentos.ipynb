{
  "nbformat": 4,
  "nbformat_minor": 0,
  "metadata": {
    "colab": {
      "provenance": [],
      "authorship_tag": "ABX9TyNVlXtdIbp5038R9SzugazN"
    },
    "kernelspec": {
      "name": "python3",
      "display_name": "Python 3"
    },
    "language_info": {
      "name": "python"
    }
  },
  "cells": [
    {
      "cell_type": "code",
      "execution_count": null,
      "metadata": {
        "id": "WEuC8fv_1nfr"
      },
      "outputs": [],
      "source": [
        "# Seguindo tutorial transmitido no Youtube do Hashtag Treinamentos ( https://youtube.com/watch?v=8AMNaVt0z_M )\n",
        "# Requisitos:\n",
        "#     Selenium\n",
        "#     Webdriver Manager\n",
        "\n",
        "from selenium import webdriver\n",
        "# Para navegador firefox apenas mudar \".firefox\" e \"GeckoDriverManager\"\n",
        "from webdriver_manager.chrome import ChromeDriverManager\n",
        "from selenium.webdriver.chrome.service import Service\n",
        "\n",
        "servico = Service(ChromeDriverManager().install())\n",
        "\n",
        "navegador = webdriver.Chrome(service = servico)"
      ]
    },
    {
      "cell_type": "code",
      "source": [
        "navegador.get(\"http://pages.hashtagtreinamentos.com/inscricao-minicurso-python-automacao-org?origemurl=hashtag_yt_org_minipython_8AMNaVt0z_M\")\n",
        "\n",
        "# Campo Nome\n",
        "navegador.find_element('xpath', '//*[@id=\"section-10356508\"]/section/div[2]/div/div[2]/form/div[1]/div/div[1]/div/input').sendkeys(\"NomeTeste\")\n",
        "# Campo E-mail\n",
        "navegador.find_element('xpath', '//*[@id=\"section-10356508\"]/section/div[2]/div/div[2]/form/div[1]/div/div[2]/div/input').sendkeys(\"pythonimpressionador@gmail.com\")\n",
        "# Campo WhatsApp\n",
        "navegador.find_element('xpath', '//*[@id=\"section-10356508\"]/section/div[2]/div/div[2]/form/div[1]/div/div[3]/div/input').sendkeys(\"011943789021\")\n",
        "\n",
        "# Clicar no botão de Enviar\n",
        "navegador.find_element('xpath', '//*[@id=\"section-10356508\"]/section/div[2]/div/div[2]/form/button').click()"
      ],
      "metadata": {
        "id": "UK9mnz7k4qzO"
      },
      "execution_count": null,
      "outputs": []
    }
  ]
}